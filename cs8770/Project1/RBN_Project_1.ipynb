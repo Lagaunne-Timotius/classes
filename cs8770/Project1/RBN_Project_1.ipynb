{
 "cells": [
  {
   "cell_type": "code",
   "execution_count": 17,
   "metadata": {},
   "outputs": [],
   "source": [
    "#Classification\n",
    "import pandas as pd \n",
    "import numpy as np \n",
    "import matplotlib.pyplot as plt\n",
    "from sklearn import cluster, datasets, mixture\n",
    "from sklearn.model_selection import train_test_split\n",
    "from numpy import linalg as LA\n",
    "import matplotlib.pyplot\n",
    "import torch\n",
    "import torch.nn as nn\n",
    "import torch.nn.functional as F \n",
    "from sklearn.cluster import KMeans\n",
    "import numpy as np\n",
    "from sklearn.utils import shuffle\n",
    "import math\n",
    "from sklearn.metrics import confusion_matrix\n",
    "import seaborn as sns\n",
    "def paint_dataset():\n",
    "    sample_dataset=plt.imread(\"C:\\\\Users\\\\TALYXD\\\\Desktop\\\\Sample Dataset 6.jpg\")\n",
    "    sample_dataset=sample_dataset.astype(float)\n",
    "    index2=sample_dataset[:,:,2]-sample_dataset[:,:,0]\n",
    "    ##Purple\n",
    "    n1=np.where(index2>(50))\n",
    "    y1=np.zeros((n1[0].shape[0],1))\n",
    "    ##Yellow\n",
    "    n0=np.where(index2<-50)\n",
    "    y2=np.ones((n0[0].shape[0],1))\n",
    "    #Combine the data to create X data and prediction Y\n",
    "    Y=np.concatenate((y1,y2)).reshape(n1[0].shape[0]+n0[0].shape[0],1)\n",
    "    n1=np.stack((n1[1],n1[0]))\n",
    "    n0=np.stack((n0[1],n0[0]))\n",
    "    X=np.hstack((n1,n0))\n",
    "    #Shuffling dataset \n",
    "    X_Train, X_Test, Y_Train, Y_Test  = train_test_split(X.transpose(), Y, test_size=0.33, random_state=42)\n",
    "    #Return 1000 dataset for training and 500 for testing\n",
    "    return(X_Train[0:1000,:], Y_Train[0:1000,:], X_Test[0:500,:], Y_Test[0:500,:])\n",
    "\n",
    "\n",
    "class RBF:\n",
    "    #Initialization \n",
    "    def __init__(self,lr,epoch,n_centers):\n",
    "        self.lr=lr\n",
    "        self.epoch=epoch\n",
    "        self.n_centers=n_centers\n",
    "        self.RandomState=np.random.seed(61000)\n",
    "        w=np.random.normal(0,10,(n_centers,1))\n",
    "        self.weight=torch.tensor(w,requires_grad=True)\n",
    "    #Setting the center with k means clustering\n",
    "    def set_center(self,X):\n",
    "        kmeans = KMeans(n_clusters=self.n_centers, random_state=0).fit(X)\n",
    "        self.Center=kmeans.cluster_centers_\n",
    "        self.Output=kmeans.predict(X)\n",
    "        return(self.Center,self.Output)\n",
    "    #Calculate the sigma for the radial basis function\n",
    "    def calculate_sigma(self,X):\n",
    "        dmax=0\n",
    "        for i in range(self.n_centers):\n",
    "            for j in range(self.n_centers):\n",
    "                d=LA.norm(self.Center[i]-self.Center[j])\n",
    "                dmax=max(d,dmax)\n",
    "        self.sigma=dmax/np.sqrt(2*self.n_centers)\n",
    "        return(self.sigma)\n",
    "    #Forward Propagation\n",
    "    def forward(self,X):\n",
    "        phi_all=np.array([])\n",
    "        for i in range(self.n_centers):\n",
    "            phi=np.exp((-1/(2*self.sigma*self.sigma))*np.power(LA.norm(X-self.Center[i],axis=1),2))\n",
    "            phi=phi.reshape(-1,1)\n",
    "            if i==0:\n",
    "                phi_all=phi\n",
    "            else:\n",
    "                phi_all=np.hstack((phi_all,phi))\n",
    "        \n",
    "        self.phi_all=torch.tensor(phi_all)\n",
    "        ##Classification\n",
    "        predict=torch.matmul(self.phi_all,self.weight)\n",
    "        predict=torch.sigmoid(predict)\n",
    "        return(predict)\n",
    "    #Back Propagation\n",
    "    def backward(self,X,Y):\n",
    "        LOSS=[]\n",
    "        for i in range(self.epoch):\n",
    "            if i%500==0:\n",
    "                print('epoch: '+str(i))\n",
    "            predict=self.forward(X)\n",
    "            #Classification\n",
    "            criteria=nn.BCELoss()\n",
    "            Y=torch.tensor(Y, dtype=torch.float64)\n",
    "            Y=Y.view(-1)\n",
    "            predict=predict.view(-1)\n",
    "            loss=criteria(predict,Y)\n",
    "            loss.backward(retain_graph=True)\n",
    "            self.weight.data=self.weight.data-self.lr*self.weight.grad.data\n",
    "            self.weight.grad.data.zero_()\n",
    "            LOSS.append(loss.detach().numpy())\n",
    "        return(LOSS)    \n",
    "    \n"
   ]
  },
  {
   "cell_type": "code",
   "execution_count": 15,
   "metadata": {
    "scrolled": false
   },
   "outputs": [
    {
     "name": "stdout",
     "output_type": "stream",
     "text": [
      "Number of centers: 1 and learning rate: 0.1\n",
      "epoch: 0\n"
     ]
    },
    {
     "name": "stderr",
     "output_type": "stream",
     "text": [
      "C:\\Users\\TALYXD\\Anaconda3\\lib\\site-packages\\ipykernel_launcher.py:67: RuntimeWarning: divide by zero encountered in double_scalars\n",
      "C:\\Users\\TALYXD\\Anaconda3\\lib\\site-packages\\ipykernel_launcher.py:88: UserWarning: To copy construct from a tensor, it is recommended to use sourceTensor.clone().detach() or sourceTensor.clone().detach().requires_grad_(True), rather than torch.tensor(sourceTensor).\n"
     ]
    },
    {
     "name": "stdout",
     "output_type": "stream",
     "text": [
      "epoch: 500\n",
      "epoch: 1000\n",
      "epoch: 1500\n",
      "epoch: 2000\n",
      "epoch: 2500\n",
      "0.438\n",
      "Number of centers: 2 and learning rate: 0.1\n",
      "epoch: 0\n"
     ]
    },
    {
     "name": "stderr",
     "output_type": "stream",
     "text": [
      "C:\\Users\\TALYXD\\Anaconda3\\lib\\site-packages\\ipykernel_launcher.py:88: UserWarning: To copy construct from a tensor, it is recommended to use sourceTensor.clone().detach() or sourceTensor.clone().detach().requires_grad_(True), rather than torch.tensor(sourceTensor).\n"
     ]
    },
    {
     "name": "stdout",
     "output_type": "stream",
     "text": [
      "epoch: 500\n",
      "epoch: 1000\n",
      "epoch: 1500\n",
      "epoch: 2000\n",
      "epoch: 2500\n",
      "0.764\n",
      "Number of centers: 4 and learning rate: 0.1\n",
      "epoch: 0\n"
     ]
    },
    {
     "name": "stderr",
     "output_type": "stream",
     "text": [
      "C:\\Users\\TALYXD\\Anaconda3\\lib\\site-packages\\ipykernel_launcher.py:88: UserWarning: To copy construct from a tensor, it is recommended to use sourceTensor.clone().detach() or sourceTensor.clone().detach().requires_grad_(True), rather than torch.tensor(sourceTensor).\n"
     ]
    },
    {
     "name": "stdout",
     "output_type": "stream",
     "text": [
      "epoch: 500\n",
      "epoch: 1000\n",
      "epoch: 1500\n",
      "epoch: 2000\n",
      "epoch: 2500\n",
      "0.712\n",
      "Number of centers: 8 and learning rate: 0.1\n",
      "epoch: 0\n"
     ]
    },
    {
     "name": "stderr",
     "output_type": "stream",
     "text": [
      "C:\\Users\\TALYXD\\Anaconda3\\lib\\site-packages\\ipykernel_launcher.py:88: UserWarning: To copy construct from a tensor, it is recommended to use sourceTensor.clone().detach() or sourceTensor.clone().detach().requires_grad_(True), rather than torch.tensor(sourceTensor).\n"
     ]
    },
    {
     "name": "stdout",
     "output_type": "stream",
     "text": [
      "epoch: 500\n",
      "epoch: 1000\n",
      "epoch: 1500\n",
      "epoch: 2000\n",
      "epoch: 2500\n",
      "0.678\n",
      "Number of centers: 16 and learning rate: 0.1\n",
      "epoch: 0\n"
     ]
    },
    {
     "name": "stderr",
     "output_type": "stream",
     "text": [
      "C:\\Users\\TALYXD\\Anaconda3\\lib\\site-packages\\ipykernel_launcher.py:88: UserWarning: To copy construct from a tensor, it is recommended to use sourceTensor.clone().detach() or sourceTensor.clone().detach().requires_grad_(True), rather than torch.tensor(sourceTensor).\n"
     ]
    },
    {
     "name": "stdout",
     "output_type": "stream",
     "text": [
      "epoch: 500\n",
      "epoch: 1000\n",
      "epoch: 1500\n",
      "epoch: 2000\n",
      "epoch: 2500\n",
      "0.748\n",
      "Number of centers: 32 and learning rate: 0.1\n",
      "epoch: 0\n"
     ]
    },
    {
     "name": "stderr",
     "output_type": "stream",
     "text": [
      "C:\\Users\\TALYXD\\Anaconda3\\lib\\site-packages\\ipykernel_launcher.py:88: UserWarning: To copy construct from a tensor, it is recommended to use sourceTensor.clone().detach() or sourceTensor.clone().detach().requires_grad_(True), rather than torch.tensor(sourceTensor).\n"
     ]
    },
    {
     "name": "stdout",
     "output_type": "stream",
     "text": [
      "epoch: 500\n",
      "epoch: 1000\n",
      "epoch: 1500\n",
      "epoch: 2000\n",
      "epoch: 2500\n",
      "0.762\n",
      "Number of centers: 64 and learning rate: 0.1\n",
      "epoch: 0\n"
     ]
    },
    {
     "name": "stderr",
     "output_type": "stream",
     "text": [
      "C:\\Users\\TALYXD\\Anaconda3\\lib\\site-packages\\ipykernel_launcher.py:88: UserWarning: To copy construct from a tensor, it is recommended to use sourceTensor.clone().detach() or sourceTensor.clone().detach().requires_grad_(True), rather than torch.tensor(sourceTensor).\n"
     ]
    },
    {
     "name": "stdout",
     "output_type": "stream",
     "text": [
      "epoch: 500\n",
      "epoch: 1000\n",
      "epoch: 1500\n",
      "epoch: 2000\n",
      "epoch: 2500\n",
      "0.924\n"
     ]
    },
    {
     "data": {
      "image/png": "[encoded data removed]",
      "text/plain": [
       "<Figure size 432x288 with 1 Axes>"
      ]
     },
     "metadata": {
      "needs_background": "light"
     },
     "output_type": "display_data"
    },
    {
     "name": "stdout",
     "output_type": "stream",
     "text": [
      "Number of centers: 1 and learning rate: 0.5\n",
      "epoch: 0\n"
     ]
    },
    {
     "name": "stderr",
     "output_type": "stream",
     "text": [
      "C:\\Users\\TALYXD\\Anaconda3\\lib\\site-packages\\ipykernel_launcher.py:67: RuntimeWarning: divide by zero encountered in double_scalars\n",
      "C:\\Users\\TALYXD\\Anaconda3\\lib\\site-packages\\ipykernel_launcher.py:88: UserWarning: To copy construct from a tensor, it is recommended to use sourceTensor.clone().detach() or sourceTensor.clone().detach().requires_grad_(True), rather than torch.tensor(sourceTensor).\n"
     ]
    },
    {
     "name": "stdout",
     "output_type": "stream",
     "text": [
      "epoch: 500\n",
      "epoch: 1000\n",
      "epoch: 1500\n",
      "epoch: 2000\n",
      "epoch: 2500\n",
      "0.438\n",
      "Number of centers: 2 and learning rate: 0.5\n",
      "epoch: 0\n"
     ]
    },
    {
     "name": "stderr",
     "output_type": "stream",
     "text": [
      "C:\\Users\\TALYXD\\Anaconda3\\lib\\site-packages\\ipykernel_launcher.py:88: UserWarning: To copy construct from a tensor, it is recommended to use sourceTensor.clone().detach() or sourceTensor.clone().detach().requires_grad_(True), rather than torch.tensor(sourceTensor).\n"
     ]
    },
    {
     "name": "stdout",
     "output_type": "stream",
     "text": [
      "epoch: 500\n",
      "epoch: 1000\n",
      "epoch: 1500\n",
      "epoch: 2000\n",
      "epoch: 2500\n",
      "0.764\n",
      "Number of centers: 4 and learning rate: 0.5\n",
      "epoch: 0\n"
     ]
    },
    {
     "name": "stderr",
     "output_type": "stream",
     "text": [
      "C:\\Users\\TALYXD\\Anaconda3\\lib\\site-packages\\ipykernel_launcher.py:88: UserWarning: To copy construct from a tensor, it is recommended to use sourceTensor.clone().detach() or sourceTensor.clone().detach().requires_grad_(True), rather than torch.tensor(sourceTensor).\n"
     ]
    },
    {
     "name": "stdout",
     "output_type": "stream",
     "text": [
      "epoch: 500\n",
      "epoch: 1000\n",
      "epoch: 1500\n",
      "epoch: 2000\n",
      "epoch: 2500\n",
      "0.778\n",
      "Number of centers: 8 and learning rate: 0.5\n",
      "epoch: 0\n"
     ]
    },
    {
     "name": "stderr",
     "output_type": "stream",
     "text": [
      "C:\\Users\\TALYXD\\Anaconda3\\lib\\site-packages\\ipykernel_launcher.py:88: UserWarning: To copy construct from a tensor, it is recommended to use sourceTensor.clone().detach() or sourceTensor.clone().detach().requires_grad_(True), rather than torch.tensor(sourceTensor).\n"
     ]
    },
    {
     "name": "stdout",
     "output_type": "stream",
     "text": [
      "epoch: 500\n",
      "epoch: 1000\n",
      "epoch: 1500\n",
      "epoch: 2000\n",
      "epoch: 2500\n",
      "0.758\n",
      "Number of centers: 16 and learning rate: 0.5\n",
      "epoch: 0\n"
     ]
    },
    {
     "name": "stderr",
     "output_type": "stream",
     "text": [
      "C:\\Users\\TALYXD\\Anaconda3\\lib\\site-packages\\ipykernel_launcher.py:88: UserWarning: To copy construct from a tensor, it is recommended to use sourceTensor.clone().detach() or sourceTensor.clone().detach().requires_grad_(True), rather than torch.tensor(sourceTensor).\n"
     ]
    },
    {
     "name": "stdout",
     "output_type": "stream",
     "text": [
      "epoch: 500\n",
      "epoch: 1000\n",
      "epoch: 1500\n",
      "epoch: 2000\n",
      "epoch: 2500\n",
      "0.888\n",
      "Number of centers: 32 and learning rate: 0.5\n",
      "epoch: 0\n"
     ]
    },
    {
     "name": "stderr",
     "output_type": "stream",
     "text": [
      "C:\\Users\\TALYXD\\Anaconda3\\lib\\site-packages\\ipykernel_launcher.py:88: UserWarning: To copy construct from a tensor, it is recommended to use sourceTensor.clone().detach() or sourceTensor.clone().detach().requires_grad_(True), rather than torch.tensor(sourceTensor).\n"
     ]
    },
    {
     "name": "stdout",
     "output_type": "stream",
     "text": [
      "epoch: 500\n",
      "epoch: 1000\n",
      "epoch: 1500\n",
      "epoch: 2000\n",
      "epoch: 2500\n",
      "0.984\n",
      "Number of centers: 64 and learning rate: 0.5\n",
      "epoch: 0\n"
     ]
    },
    {
     "name": "stderr",
     "output_type": "stream",
     "text": [
      "C:\\Users\\TALYXD\\Anaconda3\\lib\\site-packages\\ipykernel_launcher.py:88: UserWarning: To copy construct from a tensor, it is recommended to use sourceTensor.clone().detach() or sourceTensor.clone().detach().requires_grad_(True), rather than torch.tensor(sourceTensor).\n"
     ]
    },
    {
     "name": "stdout",
     "output_type": "stream",
     "text": [
      "epoch: 500\n",
      "epoch: 1000\n",
      "epoch: 1500\n",
      "epoch: 2000\n",
      "epoch: 2500\n",
      "1.0\n"
     ]
    },
    {
     "data": {
      "image/png": "[encoded data removed]",
      "text/plain": [
       "<Figure size 432x288 with 1 Axes>"
      ]
     },
     "metadata": {
      "needs_background": "light"
     },
     "output_type": "display_data"
    },
    {
     "name": "stdout",
     "output_type": "stream",
     "text": [
      "Number of centers: 1 and learning rate: 1\n",
      "epoch: 0\n"
     ]
    },
    {
     "name": "stderr",
     "output_type": "stream",
     "text": [
      "C:\\Users\\TALYXD\\Anaconda3\\lib\\site-packages\\ipykernel_launcher.py:67: RuntimeWarning: divide by zero encountered in double_scalars\n",
      "C:\\Users\\TALYXD\\Anaconda3\\lib\\site-packages\\ipykernel_launcher.py:88: UserWarning: To copy construct from a tensor, it is recommended to use sourceTensor.clone().detach() or sourceTensor.clone().detach().requires_grad_(True), rather than torch.tensor(sourceTensor).\n"
     ]
    },
    {
     "name": "stdout",
     "output_type": "stream",
     "text": [
      "epoch: 500\n",
      "epoch: 1000\n",
      "epoch: 1500\n",
      "epoch: 2000\n",
      "epoch: 2500\n",
      "0.438\n",
      "Number of centers: 2 and learning rate: 1\n",
      "epoch: 0\n"
     ]
    },
    {
     "name": "stderr",
     "output_type": "stream",
     "text": [
      "C:\\Users\\TALYXD\\Anaconda3\\lib\\site-packages\\ipykernel_launcher.py:88: UserWarning: To copy construct from a tensor, it is recommended to use sourceTensor.clone().detach() or sourceTensor.clone().detach().requires_grad_(True), rather than torch.tensor(sourceTensor).\n"
     ]
    },
    {
     "name": "stdout",
     "output_type": "stream",
     "text": [
      "epoch: 500\n",
      "epoch: 1000\n",
      "epoch: 1500\n",
      "epoch: 2000\n",
      "epoch: 2500\n",
      "0.764\n",
      "Number of centers: 4 and learning rate: 1\n",
      "epoch: 0\n"
     ]
    },
    {
     "name": "stderr",
     "output_type": "stream",
     "text": [
      "C:\\Users\\TALYXD\\Anaconda3\\lib\\site-packages\\ipykernel_launcher.py:88: UserWarning: To copy construct from a tensor, it is recommended to use sourceTensor.clone().detach() or sourceTensor.clone().detach().requires_grad_(True), rather than torch.tensor(sourceTensor).\n"
     ]
    },
    {
     "name": "stdout",
     "output_type": "stream",
     "text": [
      "epoch: 500\n",
      "epoch: 1000\n",
      "epoch: 1500\n",
      "epoch: 2000\n",
      "epoch: 2500\n",
      "0.778\n",
      "Number of centers: 8 and learning rate: 1\n",
      "epoch: 0\n"
     ]
    },
    {
     "name": "stderr",
     "output_type": "stream",
     "text": [
      "C:\\Users\\TALYXD\\Anaconda3\\lib\\site-packages\\ipykernel_launcher.py:88: UserWarning: To copy construct from a tensor, it is recommended to use sourceTensor.clone().detach() or sourceTensor.clone().detach().requires_grad_(True), rather than torch.tensor(sourceTensor).\n"
     ]
    },
    {
     "name": "stdout",
     "output_type": "stream",
     "text": [
      "epoch: 500\n",
      "epoch: 1000\n",
      "epoch: 1500\n",
      "epoch: 2000\n",
      "epoch: 2500\n",
      "0.764\n",
      "Number of centers: 16 and learning rate: 1\n",
      "epoch: 0\n"
     ]
    },
    {
     "name": "stderr",
     "output_type": "stream",
     "text": [
      "C:\\Users\\TALYXD\\Anaconda3\\lib\\site-packages\\ipykernel_launcher.py:88: UserWarning: To copy construct from a tensor, it is recommended to use sourceTensor.clone().detach() or sourceTensor.clone().detach().requires_grad_(True), rather than torch.tensor(sourceTensor).\n"
     ]
    },
    {
     "name": "stdout",
     "output_type": "stream",
     "text": [
      "epoch: 500\n",
      "epoch: 1000\n",
      "epoch: 1500\n",
      "epoch: 2000\n",
      "epoch: 2500\n",
      "0.92\n",
      "Number of centers: 32 and learning rate: 1\n",
      "epoch: 0\n"
     ]
    },
    {
     "name": "stderr",
     "output_type": "stream",
     "text": [
      "C:\\Users\\TALYXD\\Anaconda3\\lib\\site-packages\\ipykernel_launcher.py:88: UserWarning: To copy construct from a tensor, it is recommended to use sourceTensor.clone().detach() or sourceTensor.clone().detach().requires_grad_(True), rather than torch.tensor(sourceTensor).\n"
     ]
    },
    {
     "name": "stdout",
     "output_type": "stream",
     "text": [
      "epoch: 500\n",
      "epoch: 1000\n",
      "epoch: 1500\n",
      "epoch: 2000\n",
      "epoch: 2500\n",
      "1.0\n",
      "Number of centers: 64 and learning rate: 1\n",
      "epoch: 0\n"
     ]
    },
    {
     "name": "stderr",
     "output_type": "stream",
     "text": [
      "C:\\Users\\TALYXD\\Anaconda3\\lib\\site-packages\\ipykernel_launcher.py:88: UserWarning: To copy construct from a tensor, it is recommended to use sourceTensor.clone().detach() or sourceTensor.clone().detach().requires_grad_(True), rather than torch.tensor(sourceTensor).\n"
     ]
    },
    {
     "name": "stdout",
     "output_type": "stream",
     "text": [
      "epoch: 500\n",
      "epoch: 1000\n",
      "epoch: 1500\n",
      "epoch: 2000\n",
      "epoch: 2500\n",
      "1.0\n"
     ]
    },
    {
     "data": {
      "image/png": "[encoded data removed]",
      "text/plain": [
       "<Figure size 432x288 with 1 Axes>"
      ]
     },
     "metadata": {
      "needs_background": "light"
     },
     "output_type": "display_data"
    }
   ],
   "source": [
    "#Loading Data Classification\n",
    "X_Train, Y_Train, X_Test, Y_Test=paint_dataset()\n",
    "#Classification \n",
    "#Varying Learning Rate\n",
    "learning_rate=[0.1,0.5,1]\n",
    "for j in learning_rate:\n",
    "    epoch=3000\n",
    "    n_centers_all=[1,2,4,8,16,32,64]\n",
    "    Accuracy_testing=[]\n",
    "    for n_centers in n_centers_all:\n",
    "        print('Number of centers: '+str(n_centers)+' and learning rate: '+str(j))\n",
    "        Model=RBF(j,epoch,n_centers)\n",
    "        Center,Output=Model.set_center(X_Train)\n",
    "        sigma=Model.calculate_sigma(X_Train)\n",
    "        LOSS=Model.backward(X_Train,Y_Train)\n",
    "        predict=Model.forward(X_Train)\n",
    "        predict2=Model.forward(X_Test)\n",
    "        predict2=predict2.detach().numpy()\n",
    "        predict2=predict2.reshape(-1)\n",
    "        Y_Test=Y_Test.reshape(-1)\n",
    "        acc_test=np.sum((Y_Test==(predict2>0.5)*1)*1)/(Y_Test.shape[0])\n",
    "        print(acc_test)\n",
    "        Accuracy_testing.append(acc_test)\n",
    "        \n",
    "    plt.figure(1)\n",
    "    plt.plot(n_centers_all,Accuracy_testing)\n",
    "    plt.xlabel('Number of Centers')\n",
    "    plt.ylabel('Accuracy') \n",
    "    plt.title('Accuracy vs Number of Centers of RBN')\n",
    "    plt.ylim([0,1.05])\n",
    "    plt.show()"
   ]
  },
  {
   "cell_type": "code",
   "execution_count": 19,
   "metadata": {
    "scrolled": true
   },
   "outputs": [
    {
     "name": "stdout",
     "output_type": "stream",
     "text": [
      "epoch: 0\n"
     ]
    },
    {
     "name": "stderr",
     "output_type": "stream",
     "text": [
      "C:\\Users\\TALYXD\\Anaconda3\\lib\\site-packages\\ipykernel_launcher.py:88: UserWarning: To copy construct from a tensor, it is recommended to use sourceTensor.clone().detach() or sourceTensor.clone().detach().requires_grad_(True), rather than torch.tensor(sourceTensor).\n"
     ]
    },
    {
     "name": "stdout",
     "output_type": "stream",
     "text": [
      "epoch: 500\n",
      "epoch: 1000\n",
      "epoch: 1500\n",
      "epoch: 2000\n",
      "epoch: 2500\n"
     ]
    },
    {
     "data": {
      "image/png": "[encoded data removed]",
      "text/plain": [
       "<Figure size 432x288 with 2 Axes>"
      ]
     },
     "metadata": {
      "needs_background": "light"
     },
     "output_type": "display_data"
    },
    {
     "data": {
      "image/png": "[encoded data removed]",
      "text/plain": [
       "<Figure size 432x288 with 1 Axes>"
      ]
     },
     "metadata": {
      "needs_background": "light"
     },
     "output_type": "display_data"
    },
    {
     "data": {
      "image/png": "[encoded data removed]",
      "text/plain": [
       "<Figure size 432x288 with 1 Axes>"
      ]
     },
     "metadata": {
      "needs_background": "light"
     },
     "output_type": "display_data"
    }
   ],
   "source": [
    "#Best Result \n",
    "X_Train, Y_Train, X_Test, Y_Test=paint_dataset()\n",
    "#Parameter Settings\n",
    "lr=1\n",
    "epoch=3000\n",
    "n_centers=32\n",
    "#Initialization of the model\n",
    "Model=RBF(lr,epoch,n_centers)\n",
    "#Setting the Centers\n",
    "Center,Output=Model.set_center(X_Train)\n",
    "#Calculate the sigma\n",
    "sigma=Model.calculate_sigma(X_Train)\n",
    "#Back Propagation\n",
    "LOSS=Model.backward(X_Train,Y_Train)\n",
    "#Predicting the test dataset\n",
    "predict2=Model.forward(X_Test)\n",
    "\n",
    "predicttest=((predict2>0.5)*1).reshape(-1)\n",
    "\n",
    "Y_Test2=Y_Test.reshape(-1)\n",
    "\n",
    "##Generating Testing Confusion Matrix\n",
    "testcm=confusion_matrix(Y_Test2,predicttest)\n",
    "##Visualization of test confusion matrix\n",
    "plt.figure(1)\n",
    "plt.title('Best RBN Testing CF')\n",
    "group_names = ['True Neg','False Pos','False Neg','True Pos']\n",
    "group_counts = [\"{0:0.0f}\".format(value) for value in\n",
    "                testcm.flatten()]\n",
    "group_percentages = [\"{0:.2%}\".format(value) for value in\n",
    "                     testcm.flatten()/np.sum(testcm)]\n",
    "labels = [f\"{v1}\\n{v2}\\n{v3}\" for v1, v2, v3 in\n",
    "          zip(group_names,group_counts,group_percentages)]\n",
    "labels = np.asarray(labels).reshape(2,2)\n",
    "sns.heatmap(testcm, annot=labels, fmt='', cmap='Blues')\n",
    "plt.xlabel('Predicted', fontsize = 15) # x-axis label with fontsize 15\n",
    "plt.ylabel('Ground Truth', fontsize = 15) # y-axis label with fontsize 15\n",
    "plt.show()\n",
    "\n",
    "#Visualizing the testing prediction result\n",
    "predict2=predict2.reshape(Y_Test.shape[0])\n",
    "plt.figure(4)\n",
    "plt.title('Best RBN Classification Testing Result Visualization')\n",
    "plt.scatter(X_Test[:,0],X_Test[:,1],c=(predict2>0.5))\n",
    "plt.xlabel('X1', fontsize = 15) # x-axis label with fontsize 15\n",
    "plt.ylabel('X2', fontsize = 15) # y-axis label with fontsize 15\n",
    "plt.show()\n",
    "#Visualizing the testing ground truth\n",
    "Y_Test=Y_Test.reshape(Y_Test.shape[0])\n",
    "plt.figure(5)\n",
    "plt.title('Best RBN Classification Ground Truth Result Visualization')\n",
    "plt.scatter(X_Test[:,0],X_Test[:,1],c=(Y_Test>0.5))\n",
    "plt.xlabel('X1', fontsize = 15) # x-axis label with fontsize 15\n",
    "plt.ylabel('X2', fontsize = 15) # y-axis label with fontsize 15\n",
    "plt.show()"
   ]
  },
  {
   "cell_type": "code",
   "execution_count": 23,
   "metadata": {},
   "outputs": [],
   "source": [
    "#Regression\n",
    "import pandas as pd \n",
    "import numpy as np \n",
    "import matplotlib.pyplot as plt\n",
    "from sklearn import cluster, datasets, mixture\n",
    "from sklearn.model_selection import train_test_split\n",
    "from numpy import linalg as LA\n",
    "import matplotlib.pyplot\n",
    "import torch\n",
    "import torch.nn as nn\n",
    "import torch.nn.functional as F \n",
    "from sklearn.cluster import KMeans\n",
    "import numpy as np\n",
    "from sklearn.utils import shuffle\n",
    "import math\n",
    "from sklearn.metrics import confusion_matrix\n",
    "import seaborn as sns\n",
    "from sklearn.metrics import r2_score\n",
    "#Simulating the regression dataset \n",
    "def simulated_regression_data():\n",
    "    X = np.linspace(-10, 10, num=1500)\n",
    "    Y = 0.1*X*np.cos(X) + 0.1*np.random.normal(size=1500)\n",
    "    X, Y = shuffle(X,Y)\n",
    "    X_Train=X[0:1000]\n",
    "    X_Test=X[1000:1500]\n",
    "    Y_Train=Y[0:1000]\n",
    "    Y_Test=Y[1000:1500]\n",
    "    return X_Train.reshape(-1,1), Y_Train.reshape(-1,1), X_Test.reshape(-1,1), Y_Test.reshape(-1,1)\n",
    "\n",
    "class RBF:\n",
    "    #Initializing the Model:Parameter and weights\n",
    "    def __init__(self,lr,epoch,n_centers):\n",
    "        self.lr=lr\n",
    "        self.epoch=epoch\n",
    "        self.n_centers=n_centers\n",
    "        self.RandomState=np.random.seed(61000)\n",
    "        w=np.random.normal(0,10,(n_centers,1))\n",
    "        self.weight=torch.tensor(w,requires_grad=True)\n",
    "    #Setting the center with k means clustering   \n",
    "    def set_center(self,X):\n",
    "        kmeans = KMeans(n_clusters=self.n_centers, random_state=0).fit(X)\n",
    "        self.Center=kmeans.cluster_centers_\n",
    "        self.Output=kmeans.predict(X)\n",
    "        return(self.Center,self.Output)\n",
    "    #Calculate sigma for the radial basis function\n",
    "    def calculate_sigma(self,X):\n",
    "        dmax=0\n",
    "        for i in range(self.n_centers):\n",
    "            for j in range(self.n_centers):\n",
    "                d=LA.norm(self.Center[i]-self.Center[j])\n",
    "                dmax=max(d,dmax)\n",
    "        self.sigma=dmax/np.sqrt(2*self.n_centers)\n",
    "        return(self.sigma)\n",
    "    #Forward Propagation: Regression\n",
    "    def forward(self,X):\n",
    "        phi_all=np.array([])\n",
    "        for i in range(self.n_centers):\n",
    "            phi=np.exp((-1/(2*self.sigma*self.sigma))*np.power(LA.norm(X-self.Center[i],axis=1),2))\n",
    "            phi=phi.reshape(-1,1)\n",
    "            if i==0:\n",
    "                phi_all=phi\n",
    "            else:\n",
    "                phi_all=np.hstack((phi_all,phi))\n",
    "        \n",
    "        self.phi_all=torch.tensor(phi_all)\n",
    "        #Regression\n",
    "        predict=torch.matmul(self.phi_all,self.weight)\n",
    "        return(predict)\n",
    "    #Back Propagation\n",
    "    def backward(self,X,Y):\n",
    "        LOSS=[]\n",
    "        for i in range(self.epoch):\n",
    "            if i%500==0:\n",
    "                print('epoch: '+str(i))\n",
    "            predict=self.forward(X)\n",
    "            #Regression\n",
    "            criteria=nn.MSELoss()\n",
    "            Y=torch.tensor(Y, dtype=torch.float64)\n",
    "            Y=Y.view(-1)\n",
    "            predict=predict.view(-1)\n",
    "            loss=criteria(predict,Y)\n",
    "            loss.backward(retain_graph=True)\n",
    "            self.weight.data=self.weight.data-self.lr*self.weight.grad.data\n",
    "            self.weight.grad.data.zero_()\n",
    "            LOSS.append(loss.detach().numpy())\n",
    "        return(LOSS)    \n",
    "    \n"
   ]
  },
  {
   "cell_type": "code",
   "execution_count": 28,
   "metadata": {},
   "outputs": [
    {
     "name": "stdout",
     "output_type": "stream",
     "text": [
      "Number of centers: 1 and learning rate: 0.05\n",
      "epoch: 0\n",
      "epoch: 500\n"
     ]
    },
    {
     "name": "stderr",
     "output_type": "stream",
     "text": [
      "C:\\Users\\TALYXD\\Anaconda3\\lib\\site-packages\\ipykernel_launcher.py:58: RuntimeWarning: divide by zero encountered in double_scalars\n",
      "C:\\Users\\TALYXD\\Anaconda3\\lib\\site-packages\\ipykernel_launcher.py:78: UserWarning: To copy construct from a tensor, it is recommended to use sourceTensor.clone().detach() or sourceTensor.clone().detach().requires_grad_(True), rather than torch.tensor(sourceTensor).\n"
     ]
    },
    {
     "name": "stdout",
     "output_type": "stream",
     "text": [
      "epoch: 1000\n",
      "epoch: 1500\n",
      "epoch: 2000\n",
      "epoch: 2500\n",
      "Number of centers: 2 and learning rate: 0.05\n",
      "epoch: 0\n",
      "epoch: 500\n"
     ]
    },
    {
     "name": "stderr",
     "output_type": "stream",
     "text": [
      "C:\\Users\\TALYXD\\Anaconda3\\lib\\site-packages\\ipykernel_launcher.py:78: UserWarning: To copy construct from a tensor, it is recommended to use sourceTensor.clone().detach() or sourceTensor.clone().detach().requires_grad_(True), rather than torch.tensor(sourceTensor).\n"
     ]
    },
    {
     "name": "stdout",
     "output_type": "stream",
     "text": [
      "epoch: 1000\n",
      "epoch: 1500\n",
      "epoch: 2000\n",
      "epoch: 2500\n",
      "Number of centers: 4 and learning rate: 0.05\n",
      "epoch: 0\n"
     ]
    },
    {
     "name": "stderr",
     "output_type": "stream",
     "text": [
      "C:\\Users\\TALYXD\\Anaconda3\\lib\\site-packages\\ipykernel_launcher.py:78: UserWarning: To copy construct from a tensor, it is recommended to use sourceTensor.clone().detach() or sourceTensor.clone().detach().requires_grad_(True), rather than torch.tensor(sourceTensor).\n"
     ]
    },
    {
     "name": "stdout",
     "output_type": "stream",
     "text": [
      "epoch: 500\n",
      "epoch: 1000\n",
      "epoch: 1500\n",
      "epoch: 2000\n",
      "epoch: 2500\n",
      "Number of centers: 8 and learning rate: 0.05\n",
      "epoch: 0\n"
     ]
    },
    {
     "name": "stderr",
     "output_type": "stream",
     "text": [
      "C:\\Users\\TALYXD\\Anaconda3\\lib\\site-packages\\ipykernel_launcher.py:78: UserWarning: To copy construct from a tensor, it is recommended to use sourceTensor.clone().detach() or sourceTensor.clone().detach().requires_grad_(True), rather than torch.tensor(sourceTensor).\n"
     ]
    },
    {
     "name": "stdout",
     "output_type": "stream",
     "text": [
      "epoch: 500\n",
      "epoch: 1000\n",
      "epoch: 1500\n",
      "epoch: 2000\n",
      "epoch: 2500\n",
      "Number of centers: 16 and learning rate: 0.05\n",
      "epoch: 0\n"
     ]
    },
    {
     "name": "stderr",
     "output_type": "stream",
     "text": [
      "C:\\Users\\TALYXD\\Anaconda3\\lib\\site-packages\\ipykernel_launcher.py:78: UserWarning: To copy construct from a tensor, it is recommended to use sourceTensor.clone().detach() or sourceTensor.clone().detach().requires_grad_(True), rather than torch.tensor(sourceTensor).\n"
     ]
    },
    {
     "name": "stdout",
     "output_type": "stream",
     "text": [
      "epoch: 500\n",
      "epoch: 1000\n",
      "epoch: 1500\n",
      "epoch: 2000\n",
      "epoch: 2500\n",
      "Number of centers: 32 and learning rate: 0.05\n",
      "epoch: 0\n"
     ]
    },
    {
     "name": "stderr",
     "output_type": "stream",
     "text": [
      "C:\\Users\\TALYXD\\Anaconda3\\lib\\site-packages\\ipykernel_launcher.py:78: UserWarning: To copy construct from a tensor, it is recommended to use sourceTensor.clone().detach() or sourceTensor.clone().detach().requires_grad_(True), rather than torch.tensor(sourceTensor).\n"
     ]
    },
    {
     "name": "stdout",
     "output_type": "stream",
     "text": [
      "epoch: 500\n",
      "epoch: 1000\n",
      "epoch: 1500\n",
      "epoch: 2000\n",
      "epoch: 2500\n",
      "Number of centers: 64 and learning rate: 0.05\n",
      "epoch: 0\n"
     ]
    },
    {
     "name": "stderr",
     "output_type": "stream",
     "text": [
      "C:\\Users\\TALYXD\\Anaconda3\\lib\\site-packages\\ipykernel_launcher.py:78: UserWarning: To copy construct from a tensor, it is recommended to use sourceTensor.clone().detach() or sourceTensor.clone().detach().requires_grad_(True), rather than torch.tensor(sourceTensor).\n"
     ]
    },
    {
     "name": "stdout",
     "output_type": "stream",
     "text": [
      "epoch: 500\n",
      "epoch: 1000\n",
      "epoch: 1500\n",
      "epoch: 2000\n",
      "epoch: 2500\n"
     ]
    },
    {
     "data": {
      "image/png": "[encoded data removed]",
      "text/plain": [
       "<Figure size 432x288 with 1 Axes>"
      ]
     },
     "metadata": {
      "needs_background": "light"
     },
     "output_type": "display_data"
    },
    {
     "name": "stdout",
     "output_type": "stream",
     "text": [
      "Number of centers: 1 and learning rate: 0.1\n",
      "epoch: 0\n"
     ]
    },
    {
     "name": "stderr",
     "output_type": "stream",
     "text": [
      "C:\\Users\\TALYXD\\Anaconda3\\lib\\site-packages\\ipykernel_launcher.py:58: RuntimeWarning: divide by zero encountered in double_scalars\n",
      "C:\\Users\\TALYXD\\Anaconda3\\lib\\site-packages\\ipykernel_launcher.py:78: UserWarning: To copy construct from a tensor, it is recommended to use sourceTensor.clone().detach() or sourceTensor.clone().detach().requires_grad_(True), rather than torch.tensor(sourceTensor).\n"
     ]
    },
    {
     "name": "stdout",
     "output_type": "stream",
     "text": [
      "epoch: 500\n",
      "epoch: 1000\n",
      "epoch: 1500\n",
      "epoch: 2000\n",
      "epoch: 2500\n",
      "Number of centers: 2 and learning rate: 0.1\n",
      "epoch: 0\n"
     ]
    },
    {
     "name": "stderr",
     "output_type": "stream",
     "text": [
      "C:\\Users\\TALYXD\\Anaconda3\\lib\\site-packages\\ipykernel_launcher.py:78: UserWarning: To copy construct from a tensor, it is recommended to use sourceTensor.clone().detach() or sourceTensor.clone().detach().requires_grad_(True), rather than torch.tensor(sourceTensor).\n"
     ]
    },
    {
     "name": "stdout",
     "output_type": "stream",
     "text": [
      "epoch: 500\n",
      "epoch: 1000\n",
      "epoch: 1500\n",
      "epoch: 2000\n",
      "epoch: 2500\n",
      "Number of centers: 4 and learning rate: 0.1\n",
      "epoch: 0\n"
     ]
    },
    {
     "name": "stderr",
     "output_type": "stream",
     "text": [
      "C:\\Users\\TALYXD\\Anaconda3\\lib\\site-packages\\ipykernel_launcher.py:78: UserWarning: To copy construct from a tensor, it is recommended to use sourceTensor.clone().detach() or sourceTensor.clone().detach().requires_grad_(True), rather than torch.tensor(sourceTensor).\n"
     ]
    },
    {
     "name": "stdout",
     "output_type": "stream",
     "text": [
      "epoch: 500\n",
      "epoch: 1000\n",
      "epoch: 1500\n",
      "epoch: 2000\n",
      "epoch: 2500\n",
      "Number of centers: 8 and learning rate: 0.1\n",
      "epoch: 0\n"
     ]
    },
    {
     "name": "stderr",
     "output_type": "stream",
     "text": [
      "C:\\Users\\TALYXD\\Anaconda3\\lib\\site-packages\\ipykernel_launcher.py:78: UserWarning: To copy construct from a tensor, it is recommended to use sourceTensor.clone().detach() or sourceTensor.clone().detach().requires_grad_(True), rather than torch.tensor(sourceTensor).\n"
     ]
    },
    {
     "name": "stdout",
     "output_type": "stream",
     "text": [
      "epoch: 500\n",
      "epoch: 1000\n",
      "epoch: 1500\n",
      "epoch: 2000\n",
      "epoch: 2500\n",
      "Number of centers: 16 and learning rate: 0.1\n",
      "epoch: 0\n"
     ]
    },
    {
     "name": "stderr",
     "output_type": "stream",
     "text": [
      "C:\\Users\\TALYXD\\Anaconda3\\lib\\site-packages\\ipykernel_launcher.py:78: UserWarning: To copy construct from a tensor, it is recommended to use sourceTensor.clone().detach() or sourceTensor.clone().detach().requires_grad_(True), rather than torch.tensor(sourceTensor).\n"
     ]
    },
    {
     "name": "stdout",
     "output_type": "stream",
     "text": [
      "epoch: 500\n",
      "epoch: 1000\n",
      "epoch: 1500\n",
      "epoch: 2000\n",
      "epoch: 2500\n",
      "Number of centers: 32 and learning rate: 0.1\n",
      "epoch: 0\n"
     ]
    },
    {
     "name": "stderr",
     "output_type": "stream",
     "text": [
      "C:\\Users\\TALYXD\\Anaconda3\\lib\\site-packages\\ipykernel_launcher.py:78: UserWarning: To copy construct from a tensor, it is recommended to use sourceTensor.clone().detach() or sourceTensor.clone().detach().requires_grad_(True), rather than torch.tensor(sourceTensor).\n"
     ]
    },
    {
     "name": "stdout",
     "output_type": "stream",
     "text": [
      "epoch: 500\n",
      "epoch: 1000\n",
      "epoch: 1500\n",
      "epoch: 2000\n",
      "epoch: 2500\n",
      "Number of centers: 64 and learning rate: 0.1\n",
      "epoch: 0\n"
     ]
    },
    {
     "name": "stderr",
     "output_type": "stream",
     "text": [
      "C:\\Users\\TALYXD\\Anaconda3\\lib\\site-packages\\ipykernel_launcher.py:78: UserWarning: To copy construct from a tensor, it is recommended to use sourceTensor.clone().detach() or sourceTensor.clone().detach().requires_grad_(True), rather than torch.tensor(sourceTensor).\n"
     ]
    },
    {
     "name": "stdout",
     "output_type": "stream",
     "text": [
      "epoch: 500\n",
      "epoch: 1000\n",
      "epoch: 1500\n",
      "epoch: 2000\n",
      "epoch: 2500\n"
     ]
    },
    {
     "data": {
      "image/png": "[encoded data removed]",
      "text/plain": [
       "<Figure size 432x288 with 1 Axes>"
      ]
     },
     "metadata": {
      "needs_background": "light"
     },
     "output_type": "display_data"
    },
    {
     "name": "stdout",
     "output_type": "stream",
     "text": [
      "Number of centers: 1 and learning rate: 0.3\n",
      "epoch: 0\n",
      "epoch: 500"
     ]
    },
    {
     "name": "stderr",
     "output_type": "stream",
     "text": [
      "C:\\Users\\TALYXD\\Anaconda3\\lib\\site-packages\\ipykernel_launcher.py:58: RuntimeWarning: divide by zero encountered in double_scalars\n",
      "C:\\Users\\TALYXD\\Anaconda3\\lib\\site-packages\\ipykernel_launcher.py:78: UserWarning: To copy construct from a tensor, it is recommended to use sourceTensor.clone().detach() or sourceTensor.clone().detach().requires_grad_(True), rather than torch.tensor(sourceTensor).\n"
     ]
    },
    {
     "name": "stdout",
     "output_type": "stream",
     "text": [
      "\n",
      "epoch: 1000\n",
      "epoch: 1500\n",
      "epoch: 2000\n",
      "epoch: 2500\n",
      "Number of centers: 2 and learning rate: 0.3\n",
      "epoch: 0\n"
     ]
    },
    {
     "name": "stderr",
     "output_type": "stream",
     "text": [
      "C:\\Users\\TALYXD\\Anaconda3\\lib\\site-packages\\ipykernel_launcher.py:78: UserWarning: To copy construct from a tensor, it is recommended to use sourceTensor.clone().detach() or sourceTensor.clone().detach().requires_grad_(True), rather than torch.tensor(sourceTensor).\n"
     ]
    },
    {
     "name": "stdout",
     "output_type": "stream",
     "text": [
      "epoch: 500\n",
      "epoch: 1000\n",
      "epoch: 1500\n",
      "epoch: 2000\n",
      "epoch: 2500\n",
      "Number of centers: 4 and learning rate: 0.3\n",
      "epoch: 0\n"
     ]
    },
    {
     "name": "stderr",
     "output_type": "stream",
     "text": [
      "C:\\Users\\TALYXD\\Anaconda3\\lib\\site-packages\\ipykernel_launcher.py:78: UserWarning: To copy construct from a tensor, it is recommended to use sourceTensor.clone().detach() or sourceTensor.clone().detach().requires_grad_(True), rather than torch.tensor(sourceTensor).\n"
     ]
    },
    {
     "name": "stdout",
     "output_type": "stream",
     "text": [
      "epoch: 500\n",
      "epoch: 1000\n",
      "epoch: 1500\n",
      "epoch: 2000\n",
      "epoch: 2500\n",
      "Number of centers: 8 and learning rate: 0.3\n",
      "epoch: 0\n"
     ]
    },
    {
     "name": "stderr",
     "output_type": "stream",
     "text": [
      "C:\\Users\\TALYXD\\Anaconda3\\lib\\site-packages\\ipykernel_launcher.py:78: UserWarning: To copy construct from a tensor, it is recommended to use sourceTensor.clone().detach() or sourceTensor.clone().detach().requires_grad_(True), rather than torch.tensor(sourceTensor).\n"
     ]
    },
    {
     "name": "stdout",
     "output_type": "stream",
     "text": [
      "epoch: 500\n",
      "epoch: 1000\n",
      "epoch: 1500\n",
      "epoch: 2000\n",
      "epoch: 2500\n",
      "Number of centers: 16 and learning rate: 0.3\n",
      "epoch: 0\n"
     ]
    },
    {
     "name": "stderr",
     "output_type": "stream",
     "text": [
      "C:\\Users\\TALYXD\\Anaconda3\\lib\\site-packages\\ipykernel_launcher.py:78: UserWarning: To copy construct from a tensor, it is recommended to use sourceTensor.clone().detach() or sourceTensor.clone().detach().requires_grad_(True), rather than torch.tensor(sourceTensor).\n"
     ]
    },
    {
     "name": "stdout",
     "output_type": "stream",
     "text": [
      "epoch: 500\n",
      "epoch: 1000\n",
      "epoch: 1500\n",
      "epoch: 2000\n",
      "epoch: 2500\n",
      "Number of centers: 32 and learning rate: 0.3\n",
      "epoch: 0\n"
     ]
    },
    {
     "name": "stderr",
     "output_type": "stream",
     "text": [
      "C:\\Users\\TALYXD\\Anaconda3\\lib\\site-packages\\ipykernel_launcher.py:78: UserWarning: To copy construct from a tensor, it is recommended to use sourceTensor.clone().detach() or sourceTensor.clone().detach().requires_grad_(True), rather than torch.tensor(sourceTensor).\n"
     ]
    },
    {
     "name": "stdout",
     "output_type": "stream",
     "text": [
      "epoch: 500\n",
      "epoch: 1000\n",
      "epoch: 1500\n",
      "epoch: 2000\n",
      "epoch: 2500\n",
      "Number of centers: 64 and learning rate: 0.3\n",
      "epoch: 0\n"
     ]
    },
    {
     "name": "stderr",
     "output_type": "stream",
     "text": [
      "C:\\Users\\TALYXD\\Anaconda3\\lib\\site-packages\\ipykernel_launcher.py:78: UserWarning: To copy construct from a tensor, it is recommended to use sourceTensor.clone().detach() or sourceTensor.clone().detach().requires_grad_(True), rather than torch.tensor(sourceTensor).\n"
     ]
    },
    {
     "name": "stdout",
     "output_type": "stream",
     "text": [
      "epoch: 500\n",
      "epoch: 1000\n",
      "epoch: 1500\n",
      "epoch: 2000\n",
      "epoch: 2500\n"
     ]
    },
    {
     "data": {
      "image/png": "[encoded data removed]",
      "text/plain": [
       "<Figure size 432x288 with 1 Axes>"
      ]
     },
     "metadata": {
      "needs_background": "light"
     },
     "output_type": "display_data"
    }
   ],
   "source": [
    "# Loading Regression Data\n",
    "X_Train, Y_Train, X_Test, Y_Test=simulated_regression_data()\n",
    "#Parameters\n",
    "epoch=3000\n",
    "n_centers_all=[1,2,4,8,16,32,64]\n",
    "learning_rate=[0.05,0.1,0.3]\n",
    "for j in learning_rate:\n",
    "    R_SQUARE=[]\n",
    "    for n_centers in n_centers_all:\n",
    "        print('Number of centers: '+str(n_centers)+' and learning rate: '+str(j))\n",
    "        #Initialization of the Model\n",
    "        Model=RBF(j,epoch,n_centers)\n",
    "        #Setting the Center with k means clustering\n",
    "        Center,Output=Model.set_center(X_Train)\n",
    "        #Calculate the sigma\n",
    "        sigma=Model.calculate_sigma(X_Train)\n",
    "        #Back Propagation\n",
    "        LOSS=Model.backward(X_Train,Y_Train)\n",
    "        #Predicting the test dataset\n",
    "        predict2=Model.forward(X_Test)\n",
    "        #Changing torch tensor to numpy\n",
    "        predict2=predict2.detach().numpy()\n",
    "        #Calculate R-Squared \n",
    "        R_SQUARE.append(r2_score(Y_Test,predict2))\n",
    "        \n",
    "    #Visualizing the number of center vs the R-Squared result\n",
    "    plt.figure(1)\n",
    "    ax = plt.gca()\n",
    "    plt.plot(n_centers_all,R_SQUARE)\n",
    "    ax.set_ylim([-1, 1])\n",
    "    plt.xlabel('Number of centers')\n",
    "    plt.ylabel('R-Squared')\n",
    "    plt.title('R-Squared vs Number of Centers of RBN')\n",
    "    plt.show()\n"
   ]
  },
  {
   "cell_type": "code",
   "execution_count": 29,
   "metadata": {},
   "outputs": [
    {
     "name": "stdout",
     "output_type": "stream",
     "text": [
      "epoch: 0\n"
     ]
    },
    {
     "name": "stderr",
     "output_type": "stream",
     "text": [
      "C:\\Users\\TALYXD\\Anaconda3\\lib\\site-packages\\ipykernel_launcher.py:78: UserWarning: To copy construct from a tensor, it is recommended to use sourceTensor.clone().detach() or sourceTensor.clone().detach().requires_grad_(True), rather than torch.tensor(sourceTensor).\n"
     ]
    },
    {
     "name": "stdout",
     "output_type": "stream",
     "text": [
      "epoch: 500\n",
      "epoch: 1000\n",
      "epoch: 1500\n",
      "epoch: 2000\n",
      "epoch: 2500\n"
     ]
    },
    {
     "data": {
      "image/png": "[encoded data removed]",
      "text/plain": [
       "<Figure size 432x288 with 1 Axes>"
      ]
     },
     "metadata": {
      "needs_background": "light"
     },
     "output_type": "display_data"
    }
   ],
   "source": [
    "#Training Best Result Regression\n",
    "#Loading the simulated data\n",
    "X_Train, Y_Train, X_Test, Y_Test=simulated_regression_data()\n",
    "#Initialize parameter\n",
    "lr=0.3\n",
    "epoch=3000\n",
    "n_centers=16\n",
    "#Initialize the Model\n",
    "Model=RBF(lr,epoch,n_centers)\n",
    "#Setting the center with k means clustering\n",
    "Center,Output=Model.set_center(X_Train)\n",
    "#Calculate the sigma \n",
    "sigma=Model.calculate_sigma(X_Train)\n",
    "#Back Propagation\n",
    "LOSS=Model.backward(X_Train,Y_Train)\n",
    "#Predicting the testing dataset\n",
    "predict2=Model.forward(X_Test)\n",
    "\n",
    "#######################################\n",
    "##Prediction TestingRegression graph \n",
    "plt.figure(2)\n",
    "plt.scatter(X_Test,Y_Test)\n",
    "plt.scatter(X_Test,predict2.detach().numpy())\n",
    "ax = plt.gca()\n",
    "ax.set_ylim([-1, 1])\n",
    "plt.ylabel('Y')\n",
    "plt.xlabel('X')\n",
    "plt.title('Prediction Testing Regression Graph')\n",
    "plt.show()\n",
    "#####################################333"
   ]
  },
  {
   "cell_type": "code",
   "execution_count": null,
   "metadata": {},
   "outputs": [],
   "source": []
  },
  {
   "cell_type": "code",
   "execution_count": null,
   "metadata": {},
   "outputs": [],
   "source": []
  }
 ],
 "metadata": {
  "kernelspec": {
   "display_name": "Python 3",
   "language": "python",
   "name": "python3"
  },
  "language_info": {
   "codemirror_mode": {
    "name": "ipython",
    "version": 3
   },
   "file_extension": ".py",
   "mimetype": "text/x-python",
   "name": "python",
   "nbconvert_exporter": "python",
   "pygments_lexer": "ipython3",
   "version": "3.7.6"
  }
 },
 "nbformat": 4,
 "nbformat_minor": 4
}
